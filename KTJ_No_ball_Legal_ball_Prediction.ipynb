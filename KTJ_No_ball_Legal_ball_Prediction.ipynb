{
  "nbformat": 4,
  "nbformat_minor": 0,
  "metadata": {
    "colab": {
      "name": "KTJ_No_ball_Legal_ball_Prediction.ipynb",
      "provenance": []
    },
    "kernelspec": {
      "name": "python3",
      "display_name": "Python 3"
    },
    "accelerator": "GPU"
  },
  "cells": [
    {
      "cell_type": "markdown",
      "metadata": {
        "id": "oOZShqHa5F25",
        "colab_type": "text"
      },
      "source": [
        "Note : This code is developed using google colaboratory with the help of necessary gpu support. It uses Google Drive at various instances to load and save necessary data."
      ]
    },
    {
      "cell_type": "code",
      "metadata": {
        "id": "COepQ-Tur_Pg",
        "colab_type": "code",
        "outputId": "dd61a22f-b506-48ec-c701-1fee656f99e6",
        "colab": {
          "base_uri": "https://localhost:8080/",
          "height": 423
        }
      },
      "source": [
        "!pip install tensorflow-gpu==2.0.0-rc0\n",
        "!pip install opencv-python"
      ],
      "execution_count": 0,
      "outputs": [
        {
          "output_type": "stream",
          "text": [
            "Requirement already satisfied: tensorflow-gpu==2.0.0-rc0 in /usr/local/lib/python3.6/dist-packages (2.0.0rc0)\n",
            "Requirement already satisfied: absl-py>=0.7.0 in /usr/local/lib/python3.6/dist-packages (from tensorflow-gpu==2.0.0-rc0) (0.9.0)\n",
            "Requirement already satisfied: grpcio>=1.8.6 in /usr/local/lib/python3.6/dist-packages (from tensorflow-gpu==2.0.0-rc0) (1.15.0)\n",
            "Requirement already satisfied: google-pasta>=0.1.6 in /usr/local/lib/python3.6/dist-packages (from tensorflow-gpu==2.0.0-rc0) (0.1.8)\n",
            "Requirement already satisfied: keras-applications>=1.0.8 in /usr/local/lib/python3.6/dist-packages (from tensorflow-gpu==2.0.0-rc0) (1.0.8)\n",
            "Requirement already satisfied: opt-einsum>=2.3.2 in /usr/local/lib/python3.6/dist-packages (from tensorflow-gpu==2.0.0-rc0) (3.1.0)\n",
            "Requirement already satisfied: six>=1.10.0 in /usr/local/lib/python3.6/dist-packages (from tensorflow-gpu==2.0.0-rc0) (1.12.0)\n",
            "Requirement already satisfied: protobuf>=3.6.1 in /usr/local/lib/python3.6/dist-packages (from tensorflow-gpu==2.0.0-rc0) (3.10.0)\n",
            "Requirement already satisfied: tb-nightly<1.15.0a20190807,>=1.15.0a20190806 in /usr/local/lib/python3.6/dist-packages (from tensorflow-gpu==2.0.0-rc0) (1.15.0a20190806)\n",
            "Requirement already satisfied: wrapt>=1.11.1 in /usr/local/lib/python3.6/dist-packages (from tensorflow-gpu==2.0.0-rc0) (1.11.2)\n",
            "Requirement already satisfied: gast>=0.2.0 in /usr/local/lib/python3.6/dist-packages (from tensorflow-gpu==2.0.0-rc0) (0.2.2)\n",
            "Requirement already satisfied: wheel>=0.26 in /usr/local/lib/python3.6/dist-packages (from tensorflow-gpu==2.0.0-rc0) (0.33.6)\n",
            "Requirement already satisfied: astor>=0.6.0 in /usr/local/lib/python3.6/dist-packages (from tensorflow-gpu==2.0.0-rc0) (0.8.1)\n",
            "Requirement already satisfied: tf-estimator-nightly<1.14.0.dev2019080602,>=1.14.0.dev2019080601 in /usr/local/lib/python3.6/dist-packages (from tensorflow-gpu==2.0.0-rc0) (1.14.0.dev2019080601)\n",
            "Requirement already satisfied: keras-preprocessing>=1.0.5 in /usr/local/lib/python3.6/dist-packages (from tensorflow-gpu==2.0.0-rc0) (1.1.0)\n",
            "Requirement already satisfied: termcolor>=1.1.0 in /usr/local/lib/python3.6/dist-packages (from tensorflow-gpu==2.0.0-rc0) (1.1.0)\n",
            "Requirement already satisfied: numpy<2.0,>=1.16.0 in /usr/local/lib/python3.6/dist-packages (from tensorflow-gpu==2.0.0-rc0) (1.17.5)\n",
            "Requirement already satisfied: h5py in /usr/local/lib/python3.6/dist-packages (from keras-applications>=1.0.8->tensorflow-gpu==2.0.0-rc0) (2.8.0)\n",
            "Requirement already satisfied: setuptools in /usr/local/lib/python3.6/dist-packages (from protobuf>=3.6.1->tensorflow-gpu==2.0.0-rc0) (42.0.2)\n",
            "Requirement already satisfied: werkzeug>=0.11.15 in /usr/local/lib/python3.6/dist-packages (from tb-nightly<1.15.0a20190807,>=1.15.0a20190806->tensorflow-gpu==2.0.0-rc0) (0.16.0)\n",
            "Requirement already satisfied: markdown>=2.6.8 in /usr/local/lib/python3.6/dist-packages (from tb-nightly<1.15.0a20190807,>=1.15.0a20190806->tensorflow-gpu==2.0.0-rc0) (3.1.1)\n",
            "Requirement already satisfied: opencv-python in /usr/local/lib/python3.6/dist-packages (4.1.2.30)\n",
            "Requirement already satisfied: numpy>=1.11.3 in /usr/local/lib/python3.6/dist-packages (from opencv-python) (1.17.5)\n"
          ],
          "name": "stdout"
        }
      ]
    },
    {
      "cell_type": "markdown",
      "metadata": {
        "id": "GJQ8dS973MOC",
        "colab_type": "text"
      },
      "source": [
        "#Importing necessary liberaries"
      ]
    },
    {
      "cell_type": "code",
      "metadata": {
        "id": "iOAxfdMVsga5",
        "colab_type": "code",
        "outputId": "35f12e8e-ad02-4ad2-9d8e-99997a01d121",
        "colab": {
          "base_uri": "https://localhost:8080/",
          "height": 34
        }
      },
      "source": [
        "import os\n",
        "import numpy as np\n",
        "import pandas as pd\n",
        "import matplotlib.pyplot as plt\n",
        "import cv2\n",
        "\n",
        "import tensorflow as tf\n",
        "from tensorflow import keras\n",
        "from tensorflow.keras import Sequential, layers, models\n",
        "from tensorflow.keras.layers import Conv2D, MaxPool2D, Flatten, Dense, Dropout, BatchNormalization\n",
        "from tensorflow.keras.preprocessing import image\n",
        "\n",
        "from sklearn.model_selection import train_test_split\n",
        "from tqdm import tqdm\n",
        "\n",
        "from google.colab import files\n",
        "from IPython.display import Image\n",
        "from google.colab import drive\n",
        "from os import listdir\n",
        "from keras import datasets\n",
        "\n",
        "from tensorflow.python.keras.applications import vgg19\n",
        "\n",
        "drive.mount('/content/gdrive', force_remount='true')"
      ],
      "execution_count": 0,
      "outputs": [
        {
          "output_type": "stream",
          "text": [
            "Mounted at /content/gdrive\n"
          ],
          "name": "stdout"
        }
      ]
    },
    {
      "cell_type": "markdown",
      "metadata": {
        "id": "GN-XzDDw3jtq",
        "colab_type": "text"
      },
      "source": [
        "#Importing Dataset from drive"
      ]
    },
    {
      "cell_type": "code",
      "metadata": {
        "id": "hecZgJlLEhOm",
        "colab_type": "code",
        "colab": {}
      },
      "source": [
        "X=[]\n",
        "y=[]\n",
        "\n",
        "path = '/content/gdrive/My Drive/training_100x100/legal/'\n",
        "data = [os.path.join(path, file) for file in os.listdir(path) if file.endswith('.jpg')]\n",
        "\n",
        "for i in range(len(data)):\n",
        "  X.append(cv2.imread(data[i], cv2.IMREAD_UNCHANGED))\n",
        "  y.append(0)\n",
        "  #print(i)\n",
        "  \n",
        "path = '/content/gdrive/My Drive/training_100x100/no/'\n",
        "data = [os.path.join(path, file) for file in os.listdir(path) if file.endswith('.jpg')]\n",
        "\n",
        "for i in range(len(data)):\n",
        "  X.append(cv2.imread(data[i], cv2.IMREAD_UNCHANGED))\n",
        "  y.append(1)\n",
        "  #print(i)\n",
        "  "
      ],
      "execution_count": 0,
      "outputs": []
    },
    {
      "cell_type": "markdown",
      "metadata": {
        "id": "h6xHR-fw3vtn",
        "colab_type": "text"
      },
      "source": [
        "#Data Preprocessing"
      ]
    },
    {
      "cell_type": "code",
      "metadata": {
        "id": "GjV91cMiIj5a",
        "colab_type": "code",
        "outputId": "d8059ee8-f894-450e-e319-ac0a88c692a1",
        "colab": {
          "base_uri": "https://localhost:8080/",
          "height": 50
        }
      },
      "source": [
        "X_max = np.max(X)\n",
        "X=X/X_max\n",
        "\n",
        "X=np.array(X)\n",
        "y=np.array(y)\n",
        "print(X.shape)\n",
        "print(y.shape)"
      ],
      "execution_count": 0,
      "outputs": [
        {
          "output_type": "stream",
          "text": [
            "(5690, 100, 100, 3)\n",
            "(5690,)\n"
          ],
          "name": "stdout"
        }
      ]
    },
    {
      "cell_type": "markdown",
      "metadata": {
        "id": "yUDuEqyX3zey",
        "colab_type": "text"
      },
      "source": [
        "#Image Specifications"
      ]
    },
    {
      "cell_type": "code",
      "metadata": {
        "id": "0ENSV2rRxELb",
        "colab_type": "code",
        "colab": {}
      },
      "source": [
        "NCLASSES = 2\n",
        "HEIGHT = 100\n",
        "WIDTH = 100\n",
        "NUM_CHANNELS = 3"
      ],
      "execution_count": 0,
      "outputs": []
    },
    {
      "cell_type": "markdown",
      "metadata": {
        "id": "_fJMrocQ386S",
        "colab_type": "text"
      },
      "source": [
        "#Model Initialisation using Transfer learning (VGG19)"
      ]
    },
    {
      "cell_type": "code",
      "metadata": {
        "id": "dbsdkVzpuxIF",
        "colab_type": "code",
        "outputId": "4fdd7e61-9234-4ba4-ec18-89e418706a76",
        "colab": {
          "base_uri": "https://localhost:8080/",
          "height": 302
        }
      },
      "source": [
        "model=Sequential()\n",
        "model.add(vgg19.VGG19(include_top = False, input_shape = (HEIGHT, WIDTH, NUM_CHANNELS), weights ='imagenet', classes = 2, pooling  = MaxPool2D))\n",
        "\n",
        "model.add(Flatten())\n",
        "model.add(Dense(4096, activation='relu'))\n",
        "model.add(Dense(1, activation='sigmoid'))\n",
        "\n",
        "model.layers[0].trainable=False\n",
        "\n",
        "print(model.summary())"
      ],
      "execution_count": 0,
      "outputs": [
        {
          "output_type": "stream",
          "text": [
            "Model: \"sequential_2\"\n",
            "_________________________________________________________________\n",
            "Layer (type)                 Output Shape              Param #   \n",
            "=================================================================\n",
            "vgg19 (Model)                (None, 3, 3, 512)         20024384  \n",
            "_________________________________________________________________\n",
            "flatten_2 (Flatten)          (None, 4608)              0         \n",
            "_________________________________________________________________\n",
            "dense_4 (Dense)              (None, 4096)              18878464  \n",
            "_________________________________________________________________\n",
            "dense_5 (Dense)              (None, 1)                 4097      \n",
            "=================================================================\n",
            "Total params: 38,906,945\n",
            "Trainable params: 18,882,561\n",
            "Non-trainable params: 20,024,384\n",
            "_________________________________________________________________\n",
            "None\n"
          ],
          "name": "stdout"
        }
      ]
    },
    {
      "cell_type": "code",
      "metadata": {
        "id": "eIzyii4yx1kI",
        "colab_type": "code",
        "colab": {}
      },
      "source": [
        "model.compile(optimizer='adam', loss='binary_crossentropy', metrics=['accuracy'])\n",
        "\n",
        "X_train, X_test, y_train, y_test = train_test_split(X, y, test_size=0.1, shuffle=True)"
      ],
      "execution_count": 0,
      "outputs": []
    },
    {
      "cell_type": "markdown",
      "metadata": {
        "id": "_o6vOO1M4LiO",
        "colab_type": "text"
      },
      "source": [
        "#Training Model"
      ]
    },
    {
      "cell_type": "code",
      "metadata": {
        "id": "4uj4bw-pz65j",
        "colab_type": "code",
        "outputId": "13afd879-45c7-4516-b4a6-d526421e7483",
        "colab": {
          "base_uri": "https://localhost:8080/",
          "height": 1000
        }
      },
      "source": [
        "checkpoint_path = \"/content/gdrive/My Drive/ktj/saves/checkpoints.pkl\"\n",
        "cp_callback = tf.keras.callbacks.ModelCheckpoint(filepath=checkpoint_path,save_weights_only=True,verbose=1)\n",
        "history = model.fit(X_train, y_train, batch_size = 50, epochs = 30,callbacks=[cp_callback])"
      ],
      "execution_count": 0,
      "outputs": [
        {
          "output_type": "stream",
          "text": [
            "Train on 5121 samples\n",
            "Epoch 1/30\n",
            "5100/5121 [============================>.] - ETA: 0s - loss: 0.9024 - accuracy: 0.7041\n",
            "Epoch 00001: saving model to /content/gdrive/My Drive/ktj/saves/checkpoints.pkl\n",
            "5121/5121 [==============================] - 10s 2ms/sample - loss: 0.9000 - accuracy: 0.7045\n",
            "Epoch 2/30\n",
            "5100/5121 [============================>.] - ETA: 0s - loss: 0.3284 - accuracy: 0.8339\n",
            "Epoch 00002: saving model to /content/gdrive/My Drive/ktj/saves/checkpoints.pkl\n",
            "5121/5121 [==============================] - 9s 2ms/sample - loss: 0.3280 - accuracy: 0.8340\n",
            "Epoch 3/30\n",
            "5100/5121 [============================>.] - ETA: 0s - loss: 0.2574 - accuracy: 0.8769\n",
            "Epoch 00003: saving model to /content/gdrive/My Drive/ktj/saves/checkpoints.pkl\n",
            "5121/5121 [==============================] - 9s 2ms/sample - loss: 0.2572 - accuracy: 0.8766\n",
            "Epoch 4/30\n",
            "5100/5121 [============================>.] - ETA: 0s - loss: 0.2142 - accuracy: 0.9024\n",
            "Epoch 00004: saving model to /content/gdrive/My Drive/ktj/saves/checkpoints.pkl\n",
            "5121/5121 [==============================] - 10s 2ms/sample - loss: 0.2140 - accuracy: 0.9026\n",
            "Epoch 5/30\n",
            "5100/5121 [============================>.] - ETA: 0s - loss: 0.2233 - accuracy: 0.8916\n",
            "Epoch 00005: saving model to /content/gdrive/My Drive/ktj/saves/checkpoints.pkl\n",
            "5121/5121 [==============================] - 9s 2ms/sample - loss: 0.2238 - accuracy: 0.8914\n",
            "Epoch 6/30\n",
            "5100/5121 [============================>.] - ETA: 0s - loss: 0.1709 - accuracy: 0.9149\n",
            "Epoch 00006: saving model to /content/gdrive/My Drive/ktj/saves/checkpoints.pkl\n",
            "5121/5121 [==============================] - 10s 2ms/sample - loss: 0.1707 - accuracy: 0.9149\n",
            "Epoch 7/30\n",
            "5100/5121 [============================>.] - ETA: 0s - loss: 0.1706 - accuracy: 0.9171\n",
            "Epoch 00007: saving model to /content/gdrive/My Drive/ktj/saves/checkpoints.pkl\n",
            "5121/5121 [==============================] - 10s 2ms/sample - loss: 0.1704 - accuracy: 0.9172\n",
            "Epoch 8/30\n",
            "5100/5121 [============================>.] - ETA: 0s - loss: 0.1649 - accuracy: 0.9208\n",
            "Epoch 00008: saving model to /content/gdrive/My Drive/ktj/saves/checkpoints.pkl\n",
            "5121/5121 [==============================] - 9s 2ms/sample - loss: 0.1649 - accuracy: 0.9209\n",
            "Epoch 9/30\n",
            "5100/5121 [============================>.] - ETA: 0s - loss: 0.1506 - accuracy: 0.9253\n",
            "Epoch 00009: saving model to /content/gdrive/My Drive/ktj/saves/checkpoints.pkl\n",
            "5121/5121 [==============================] - 10s 2ms/sample - loss: 0.1507 - accuracy: 0.9250\n",
            "Epoch 10/30\n",
            "5100/5121 [============================>.] - ETA: 0s - loss: 0.1630 - accuracy: 0.9261\n",
            "Epoch 00010: saving model to /content/gdrive/My Drive/ktj/saves/checkpoints.pkl\n",
            "5121/5121 [==============================] - 10s 2ms/sample - loss: 0.1627 - accuracy: 0.9264\n",
            "Epoch 11/30\n",
            "5100/5121 [============================>.] - ETA: 0s - loss: 0.1340 - accuracy: 0.9388\n",
            "Epoch 00011: saving model to /content/gdrive/My Drive/ktj/saves/checkpoints.pkl\n",
            "5121/5121 [==============================] - 10s 2ms/sample - loss: 0.1337 - accuracy: 0.9391\n",
            "Epoch 12/30\n",
            "5100/5121 [============================>.] - ETA: 0s - loss: 0.1390 - accuracy: 0.9320\n",
            "Epoch 00012: saving model to /content/gdrive/My Drive/ktj/saves/checkpoints.pkl\n",
            "5121/5121 [==============================] - 10s 2ms/sample - loss: 0.1387 - accuracy: 0.9320\n",
            "Epoch 13/30\n",
            "5100/5121 [============================>.] - ETA: 0s - loss: 0.1524 - accuracy: 0.9251\n",
            "Epoch 00013: saving model to /content/gdrive/My Drive/ktj/saves/checkpoints.pkl\n",
            "5121/5121 [==============================] - 9s 2ms/sample - loss: 0.1525 - accuracy: 0.9250\n",
            "Epoch 14/30\n",
            "5100/5121 [============================>.] - ETA: 0s - loss: 0.1469 - accuracy: 0.9288\n",
            "Epoch 00014: saving model to /content/gdrive/My Drive/ktj/saves/checkpoints.pkl\n",
            "5121/5121 [==============================] - 10s 2ms/sample - loss: 0.1469 - accuracy: 0.9291\n",
            "Epoch 15/30\n",
            "5100/5121 [============================>.] - ETA: 0s - loss: 0.1196 - accuracy: 0.9424\n",
            "Epoch 00015: saving model to /content/gdrive/My Drive/ktj/saves/checkpoints.pkl\n",
            "5121/5121 [==============================] - 9s 2ms/sample - loss: 0.1192 - accuracy: 0.9426\n",
            "Epoch 16/30\n",
            "5100/5121 [============================>.] - ETA: 0s - loss: 0.1120 - accuracy: 0.9475\n",
            "Epoch 00016: saving model to /content/gdrive/My Drive/ktj/saves/checkpoints.pkl\n",
            "5121/5121 [==============================] - 9s 2ms/sample - loss: 0.1118 - accuracy: 0.9477\n",
            "Epoch 17/30\n",
            "5100/5121 [============================>.] - ETA: 0s - loss: 0.1260 - accuracy: 0.9371\n",
            "Epoch 00017: saving model to /content/gdrive/My Drive/ktj/saves/checkpoints.pkl\n",
            "5121/5121 [==============================] - 10s 2ms/sample - loss: 0.1261 - accuracy: 0.9371\n",
            "Epoch 18/30\n",
            "5100/5121 [============================>.] - ETA: 0s - loss: 0.1327 - accuracy: 0.9353\n",
            "Epoch 00018: saving model to /content/gdrive/My Drive/ktj/saves/checkpoints.pkl\n",
            "5121/5121 [==============================] - 9s 2ms/sample - loss: 0.1326 - accuracy: 0.9354\n",
            "Epoch 19/30\n",
            "5100/5121 [============================>.] - ETA: 0s - loss: 0.1146 - accuracy: 0.9408\n",
            "Epoch 00019: saving model to /content/gdrive/My Drive/ktj/saves/checkpoints.pkl\n",
            "5121/5121 [==============================] - 10s 2ms/sample - loss: 0.1147 - accuracy: 0.9406\n",
            "Epoch 20/30\n",
            "5100/5121 [============================>.] - ETA: 0s - loss: 0.1280 - accuracy: 0.9367\n",
            "Epoch 00020: saving model to /content/gdrive/My Drive/ktj/saves/checkpoints.pkl\n",
            "5121/5121 [==============================] - 10s 2ms/sample - loss: 0.1287 - accuracy: 0.9361\n",
            "Epoch 21/30\n",
            "5100/5121 [============================>.] - ETA: 0s - loss: 0.1122 - accuracy: 0.9437\n",
            "Epoch 00021: saving model to /content/gdrive/My Drive/ktj/saves/checkpoints.pkl\n",
            "5121/5121 [==============================] - 10s 2ms/sample - loss: 0.1122 - accuracy: 0.9438\n",
            "Epoch 22/30\n",
            "5100/5121 [============================>.] - ETA: 0s - loss: 0.1130 - accuracy: 0.9463\n",
            "Epoch 00022: saving model to /content/gdrive/My Drive/ktj/saves/checkpoints.pkl\n",
            "5121/5121 [==============================] - 10s 2ms/sample - loss: 0.1127 - accuracy: 0.9465\n",
            "Epoch 23/30\n",
            "5100/5121 [============================>.] - ETA: 0s - loss: 0.1092 - accuracy: 0.9478\n",
            "Epoch 00023: saving model to /content/gdrive/My Drive/ktj/saves/checkpoints.pkl\n",
            "5121/5121 [==============================] - 10s 2ms/sample - loss: 0.1091 - accuracy: 0.9479\n",
            "Epoch 24/30\n",
            "5100/5121 [============================>.] - ETA: 0s - loss: 0.1101 - accuracy: 0.9475\n",
            "Epoch 00024: saving model to /content/gdrive/My Drive/ktj/saves/checkpoints.pkl\n",
            "5121/5121 [==============================] - 10s 2ms/sample - loss: 0.1102 - accuracy: 0.9475\n",
            "Epoch 25/30\n",
            "5100/5121 [============================>.] - ETA: 0s - loss: 0.1082 - accuracy: 0.9476\n",
            "Epoch 00025: saving model to /content/gdrive/My Drive/ktj/saves/checkpoints.pkl\n",
            "5121/5121 [==============================] - 10s 2ms/sample - loss: 0.1085 - accuracy: 0.9475\n",
            "Epoch 26/30\n",
            "5100/5121 [============================>.] - ETA: 0s - loss: 0.1104 - accuracy: 0.9461\n",
            "Epoch 00026: saving model to /content/gdrive/My Drive/ktj/saves/checkpoints.pkl\n",
            "5121/5121 [==============================] - 10s 2ms/sample - loss: 0.1105 - accuracy: 0.9461\n",
            "Epoch 27/30\n",
            "5100/5121 [============================>.] - ETA: 0s - loss: 0.1031 - accuracy: 0.9512\n",
            "Epoch 00027: saving model to /content/gdrive/My Drive/ktj/saves/checkpoints.pkl\n",
            "5121/5121 [==============================] - 10s 2ms/sample - loss: 0.1027 - accuracy: 0.9514\n",
            "Epoch 28/30\n",
            "5100/5121 [============================>.] - ETA: 0s - loss: 0.1059 - accuracy: 0.9473\n",
            "Epoch 00028: saving model to /content/gdrive/My Drive/ktj/saves/checkpoints.pkl\n",
            "5121/5121 [==============================] - 10s 2ms/sample - loss: 0.1055 - accuracy: 0.9475\n",
            "Epoch 29/30\n",
            "5100/5121 [============================>.] - ETA: 0s - loss: 0.1406 - accuracy: 0.9378\n",
            "Epoch 00029: saving model to /content/gdrive/My Drive/ktj/saves/checkpoints.pkl\n",
            "5121/5121 [==============================] - 10s 2ms/sample - loss: 0.1409 - accuracy: 0.9377\n",
            "Epoch 30/30\n",
            "5100/5121 [============================>.] - ETA: 0s - loss: 0.1048 - accuracy: 0.9486\n",
            "Epoch 00030: saving model to /content/gdrive/My Drive/ktj/saves/checkpoints.pkl\n",
            "5121/5121 [==============================] - 10s 2ms/sample - loss: 0.1045 - accuracy: 0.9488\n"
          ],
          "name": "stdout"
        }
      ]
    },
    {
      "cell_type": "markdown",
      "metadata": {
        "id": "B1o2qKR54RcC",
        "colab_type": "text"
      },
      "source": [
        "#Model Accuracy"
      ]
    },
    {
      "cell_type": "code",
      "metadata": {
        "id": "D6mIiDJiz7QQ",
        "colab_type": "code",
        "outputId": "6f456179-0848-430e-a628-9fe3f775207f",
        "colab": {
          "base_uri": "https://localhost:8080/",
          "height": 312
        }
      },
      "source": [
        "plt.figure()\n",
        "plt.plot(history.history['accuracy'])\n",
        "plt.xlabel('No. of Epochs')\n",
        "plt.ylabel('Accuracy')\n",
        "plt.title('Model Accuracy')"
      ],
      "execution_count": 0,
      "outputs": [
        {
          "output_type": "execute_result",
          "data": {
            "text/plain": [
              "Text(0.5, 1.0, 'Model Accuracy')"
            ]
          },
          "metadata": {
            "tags": []
          },
          "execution_count": 32
        },
        {
          "output_type": "display_data",
          "data": {
            "image/png": "[encoded data removed]",
            "text/plain": [
              "<Figure size 432x288 with 1 Axes>"
            ]
          },
          "metadata": {
            "tags": []
          }
        }
      ]
    },
    {
      "cell_type": "markdown",
      "metadata": {
        "id": "tWYNUdnk4UeB",
        "colab_type": "text"
      },
      "source": [
        "#Model Loss"
      ]
    },
    {
      "cell_type": "code",
      "metadata": {
        "id": "lF903L2Fz8Q9",
        "colab_type": "code",
        "outputId": "7b416f11-b3da-409f-abef-a8d544c28b20",
        "colab": {
          "base_uri": "https://localhost:8080/",
          "height": 312
        }
      },
      "source": [
        "plt.figure()\n",
        "plt.plot(history.history['loss'])\n",
        "plt.xlabel('No. of Epochs')\n",
        "plt.ylabel('Loss')\n",
        "plt.title('Model Loss')"
      ],
      "execution_count": 0,
      "outputs": [
        {
          "output_type": "execute_result",
          "data": {
            "text/plain": [
              "Text(0.5, 1.0, 'Model Loss')"
            ]
          },
          "metadata": {
            "tags": []
          },
          "execution_count": 33
        },
        {
          "output_type": "display_data",
          "data": {
            "image/png": "[encoded data removed]",
            "text/plain": [
              "<Figure size 432x288 with 1 Axes>"
            ]
          },
          "metadata": {
            "tags": []
          }
        }
      ]
    },
    {
      "cell_type": "markdown",
      "metadata": {
        "id": "E9sXxbXV4Za-",
        "colab_type": "text"
      },
      "source": [
        "#Testing Model against Test Data"
      ]
    },
    {
      "cell_type": "code",
      "metadata": {
        "id": "SrmWrKJdz8Vm",
        "colab_type": "code",
        "outputId": "6fcbac98-4b97-40fd-e595-65b9e26f04ca",
        "colab": {
          "base_uri": "https://localhost:8080/",
          "height": 84
        }
      },
      "source": [
        "y_pred = model.predict_classes(X_test)\n",
        "from sklearn.metrics import accuracy_score,precision_score,recall_score,f1_score\n",
        "print(\"accuracy score - \",accuracy_score(y_pred, y_test[:len(y_pred)]))\n",
        "print(\"Precision Score - \",precision_score(y_pred,y_test[:len(y_pred)]))\n",
        "print(\"Recall Score - \",recall_score(y_pred, y_test[:len(y_pred)]))\n",
        "print(\"f1 Score - \",f1_score(y_pred, y_test[:len(y_pred)]))"
      ],
      "execution_count": 0,
      "outputs": [
        {
          "output_type": "stream",
          "text": [
            "accuracy score -  0.8945518453427065\n",
            "Precision Score -  0.7722007722007722\n",
            "Recall Score -  0.9950248756218906\n",
            "f1 Score -  0.8695652173913043\n"
          ],
          "name": "stdout"
        }
      ]
    },
    {
      "cell_type": "markdown",
      "metadata": {
        "id": "qTOCJcAn4kC5",
        "colab_type": "text"
      },
      "source": [
        "#Saving Trained model to Google Drive"
      ]
    },
    {
      "cell_type": "code",
      "metadata": {
        "id": "hUO8SlUMPRFx",
        "colab_type": "code",
        "colab": {}
      },
      "source": [
        "from keras.backend import manual_variable_initialization\n",
        "manual_variable_initialization(True)\n",
        "model.save(\"/content/gdrive/My Drive/ktj/saves/model_save.h5\")\n",
        "model.save_weights(\"/content/gdrive/My Drive/ktj/saves/model_weights.pkl\")"
      ],
      "execution_count": 0,
      "outputs": []
    },
    {
      "cell_type": "code",
      "metadata": {
        "id": "1S-Qb-kFjj06",
        "colab_type": "code",
        "colab": {}
      },
      "source": [
        ""
      ],
      "execution_count": 0,
      "outputs": []
    }
  ]
}